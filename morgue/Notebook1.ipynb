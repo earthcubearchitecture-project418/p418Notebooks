{
 "cells": [
  {
   "cell_type": "markdown",
   "metadata": {},
   "source": [
    "### Notebook 1:  A P418 client example"
   ]
  },
  {
   "cell_type": "markdown",
   "metadata": {},
   "source": [
    "Can we demonstrate in a notebook:\n",
    "\n",
    "- [ ] Searching the P418 services\n",
    "- [ ] A UI that allows inspection of results and the selection of one or more data files of interest\n",
    "- [ ] Code that takes data files of interest by UUID and then inspects them (focus only type frictionless for now)\n",
    "- [ ] Validation via GoodTables libraries\n",
    "- [ ] Access and loading via Pandas \n",
    "- [ ] Charting and manipulation in pyhton land\n",
    "\n",
    "\n",
    "Refs:\n",
    "1. [Frictionless libraries](http://frictionlessdata.io/tools/#libraries )\n",
    "1. Example Package from OCD:  https://raw.githubusercontent.com/OpenCoreData/ocdGarden/master/frictionlessdata/fdpDemo/datapackage.json\n",
    "1. [Package in DataViewer](http://data.okfn.org/tools/view?url=https%3A%2F%2Fraw.githubusercontent.com%2FOpenCoreData%2FocdGarden%2Fmaster%2Ffrictionlessdata%2FfdpDemo%2Fdatapackage.json)\n"
   ]
  },
  {
   "cell_type": "code",
   "execution_count": null,
   "metadata": {
    "collapsed": true
   },
   "outputs": [],
   "source": []
  }
 ],
 "metadata": {
  "kernelspec": {
   "display_name": "Python 2",
   "language": "python",
   "name": "python2"
  },
  "language_info": {
   "codemirror_mode": {
    "name": "ipython",
    "version": 2
   },
   "file_extension": ".py",
   "mimetype": "text/x-python",
   "name": "python",
   "nbconvert_exporter": "python",
   "pygments_lexer": "ipython2",
   "version": "2.7.11"
  }
 },
 "nbformat": 4,
 "nbformat_minor": 1
}
