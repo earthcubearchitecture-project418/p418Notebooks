{
 "cells": [
  {
   "cell_type": "markdown",
   "metadata": {
    "collapsed": true
   },
   "source": [
    "Step 1: Create a variable for a spatial search location."
   ]
  },
  {
   "cell_type": "code",
   "execution_count": 10,
   "metadata": {},
   "outputs": [],
   "source": [
    "location = (-105.2705,40.015)"
   ]
  },
  {
   "cell_type": "markdown",
   "metadata": {},
   "source": [
    "Step 2: Convert array to GeoJSON FeatureCollection."
   ]
  },
  {
   "cell_type": "code",
   "execution_count": 11,
   "metadata": {},
   "outputs": [],
   "source": [
    "import geojson\n",
    "from geojson import Feature, FeatureCollection, Polygon, Point\n",
    "point = Point(location) \n",
    "feature = Feature(geometry=point)\n",
    "feature_collection = FeatureCollection([feature])\n",
    "feature_collection_str = geojson.dumps(feature_collection, sort_keys=True)"
   ]
  },
  {
   "cell_type": "markdown",
   "metadata": {},
   "source": [
    "Step 3: Set type of search for spatial search."
   ]
  },
  {
   "cell_type": "code",
   "execution_count": 12,
   "metadata": {},
   "outputs": [],
   "source": [
    "search_type = \"spatial/search/object\""
   ]
  },
  {
   "cell_type": "markdown",
   "metadata": {},
   "source": [
    "Step 4: Set the request domain URL for the geodex web service. Please see http://geodex.org/swagger-ui/ for a complete description of the web service call formats. "
   ]
  },
  {
   "cell_type": "code",
   "execution_count": 13,
   "metadata": {},
   "outputs": [],
   "source": [
    "#Set core domain name for request URL\n",
    "domain_url = \"https://geodex.org/api/v1/\"\n",
    "\n",
    "#Create request URL\n",
    "request_url = domain_url + search_type"
   ]
  },
  {
   "cell_type": "markdown",
   "metadata": {},
   "source": [
    "Step 5: Create a python dict data structure to hold URL submission parametersStep 5: Create a python dict data structure to hold URL submission parameters"
   ]
  },
  {
   "cell_type": "code",
   "execution_count": 14,
   "metadata": {},
   "outputs": [],
   "source": [
    "params_dict = {'geowithin':feature_collection_str}"
   ]
  },
  {
   "cell_type": "markdown",
   "metadata": {},
   "source": [
    "Step 6: Make call to the Geodex RESTful web service using the requests package."
   ]
  },
  {
   "cell_type": "code",
   "execution_count": 15,
   "metadata": {},
   "outputs": [],
   "source": [
    "import requests\n",
    "\n",
    "#Make a GET call to the Geodex web service\n",
    "r = requests.get(request_url, params=params_dict)\n",
    "\n",
    "#Check the status code. If successful then this code is 200\n",
    "if r.status_code != requests.codes.ok:\n",
    "    print(\"ERROR!\")\n",
    "else:\n",
    "    results = r.json()"
   ]
  },
  {
   "cell_type": "markdown",
   "metadata": {},
   "source": [
    "Step 7: Expore results."
   ]
  },
  {
   "cell_type": "code",
   "execution_count": 16,
   "metadata": {},
   "outputs": [
    {
     "name": "stdout",
     "output_type": "stream",
     "text": [
      "Number of Results = 531\n",
      "URL of First Result = http://get.iedadata.org/doi/310660\n",
      "Coordinates of First Result = [[[-129.493408, 5.049939], [-79.176727, 5.049939], [-79.176727, 48.48632], [-129.493408, 48.48632], [-129.493408, 5.049939]]]\n"
     ]
    }
   ],
   "source": [
    "features = results['features']\n",
    "number_of_results = len(features)\n",
    "first_result = features[0]\n",
    "\n",
    "url = first_result['properties']['URL']\n",
    "geometry = first_result['geometry']['type']\n",
    "coordinates = first_result['geometry']['coordinates']\n",
    "\n",
    "print(\"Number of Results = \" + str(number_of_results))\n",
    "print(\"URL of First Result = \" + url)\n",
    "print(\"Coordinates of First Result = \" + str(coordinates))"
   ]
  },
  {
   "cell_type": "markdown",
   "metadata": {},
   "source": [
    "Step 8: Now use the RESTful web service to query for metadata about a dataset."
   ]
  },
  {
   "cell_type": "code",
   "execution_count": 17,
   "metadata": {},
   "outputs": [],
   "source": [
    "search_type = \"graph/details\"\n",
    "request_url = domain_url + search_type\n",
    "params_dict = {'r':'http://get.iedadata.org/doi/100537'}\n",
    "r = requests.get(request_url, params=params_dict)\n",
    "\n",
    "#Check the status code. If successful then this code is 200\n",
    "if r.status_code != requests.codes.ok:\n",
    "    print(\"ERROR!\")\n",
    "else:\n",
    "    results = r.json()"
   ]
  },
  {
   "cell_type": "markdown",
   "metadata": {},
   "source": [
    "Step 9: Now examine the returned metadata."
   ]
  },
  {
   "cell_type": "code",
   "execution_count": 18,
   "metadata": {},
   "outputs": [
    {
     "name": "stdout",
     "output_type": "stream",
     "text": [
      "Dataset Webpage URL = http://get.iedadata.org/doi/100537\n",
      "Name = \n",
      "Alternate Name = \n",
      "URI = DOI:10.1594/IEDA/100537\n",
      "Keywords = Global\n",
      "Description = Abstract: Measurements of particulate organic carbon (POC), in situ sediment temperature, age data, and age models in scientific ocean drilling holes (Deep Sea Drilling Project, Ocean Drilling Program, and Integrated Ocean Drilling Program). The data are from drill holes in global areas of high POC deposition (continental margins and upwelling areas). The variation in POC content with temperature and age in the sediment column is used to study the process of organic matter decomposition.; Other Description: Malinverno, A. and Martinez, E. A. The effect of temperature on organic carbon degradation in marine sediments. Sci. Rep. 5, 17861; doi: 10.1038/srep17861 (2015).\n",
      "Citation = Alberto Malinverno, Ernesto A. Martinez (2015), Organic Carbon, in situ Temperature, Age Data, and Age Models in Scientific Ocean Drilling Holes (Deep Sea Drilling Project, Ocean Drilling Program, and Integrated Ocean Drilling Program). Interdisciplinary Earth Data Alliance (IEDA). doi:10.1594/IEDA/100537\n",
      "Date Published = 2015\n",
      "License = Creative Commons Attribution-NonCommercial-Share Alike 3.0 United States [CC BY-NC-SA 3.0]\n",
      "Dataset Download Link = \n"
     ]
    }
   ],
   "source": [
    "print(\"Dataset Webpage URL = \" + results['URL'])\n",
    "print(\"Name = \" + results['Name'])\n",
    "print(\"Alternate Name = \" + results['Aname'])\n",
    "print(\"URI = \" + results['S'])\n",
    "print(\"Keywords = \" + results['Keywords'])\n",
    "print(\"Description = \" + results['Description'])\n",
    "print(\"Citation = \" + results['Citation'])\n",
    "print(\"Date Published = \" + results['Datepublished'])\n",
    "print(\"License = \" + results['License'])\n",
    "print(\"Dataset Download Link = \" + results['Curl'])"
   ]
  }
 ],
 "metadata": {
  "kernelspec": {
   "display_name": "Python 3",
   "language": "python",
   "name": "python3"
  },
  "language_info": {
   "codemirror_mode": {
    "name": "ipython",
    "version": 3
   },
   "file_extension": ".py",
   "mimetype": "text/x-python",
   "name": "python",
   "nbconvert_exporter": "python",
   "pygments_lexer": "ipython3",
   "version": "3.6.3"
  }
 },
 "nbformat": 4,
 "nbformat_minor": 2
}
