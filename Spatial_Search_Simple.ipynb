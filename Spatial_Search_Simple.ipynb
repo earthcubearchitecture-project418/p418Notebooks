{
 "cells": [
  {
   "cell_type": "markdown",
   "metadata": {
    "collapsed": true
   },
   "source": [
    "Step 1: Create a variable for a spatial search location."
   ]
  },
  {
   "cell_type": "code",
   "execution_count": 125,
   "metadata": {},
   "outputs": [],
   "source": [
    "location = (-105.2705,40.015)"
   ]
  },
  {
   "cell_type": "markdown",
   "metadata": {},
   "source": [
    "Step #: Convert array to GeoJSON FeatureCollection."
   ]
  },
  {
   "cell_type": "code",
   "execution_count": 126,
   "metadata": {},
   "outputs": [],
   "source": [
    "from geojson import Feature, FeatureCollection, Polygon, Point\n",
    "point = Point(location) \n",
    "feature = Feature(geometry=point)\n",
    "feature_collection = FeatureCollection([feature])\n",
    "feature_collection_str = geojson.dumps(feature_collection, sort_keys=True)"
   ]
  },
  {
   "cell_type": "markdown",
   "metadata": {},
   "source": [
    "Step #: Set type of search for spatial search."
   ]
  },
  {
   "cell_type": "code",
   "execution_count": 127,
   "metadata": {},
   "outputs": [],
   "source": [
    "search_type = \"spatial/search/object\""
   ]
  },
  {
   "cell_type": "markdown",
   "metadata": {},
   "source": [
    "Step #: Set the request domain URL for the geodex web service. Please see http://geodex.org/swagger-ui/ for a complete description of the web service call formats. "
   ]
  },
  {
   "cell_type": "code",
   "execution_count": 128,
   "metadata": {},
   "outputs": [],
   "source": [
    "#Set core domain name for request URL\n",
    "domain_url = \"http://geodex.org/api/v1/\"\n",
    "\n",
    "#Create request URL\n",
    "request_url = domain_url + search_type"
   ]
  },
  {
   "cell_type": "markdown",
   "metadata": {},
   "source": [
    "Step #: Create a python dict data structure to hold URL submission parameters"
   ]
  },
  {
   "cell_type": "code",
   "execution_count": 131,
   "metadata": {},
   "outputs": [],
   "source": [
    "params_dict = {'geowithin':feature_collection_str}"
   ]
  },
  {
   "cell_type": "markdown",
   "metadata": {},
   "source": [
    "Step #: Make call to the Geodex RESTful web service using the requests package."
   ]
  },
  {
   "cell_type": "code",
   "execution_count": 132,
   "metadata": {},
   "outputs": [
    {
     "name": "stdout",
     "output_type": "stream",
     "text": [
      "{'type': 'FeatureCollection', 'features': [{'type': 'Feature', 'geometry': {'type': 'Polygon', 'coordinates': [[[179.7, 46.4], [-179.93, 46.4], [-179.93, -39.11], [179.7, -39.11], [179.7, 46.4]]]}, 'properties': {'URL': 'https://www.bco-dmo.org/dataset/700907'}}, {'type': 'Feature', 'geometry': {'type': 'Polygon', 'coordinates': [[[144.903, 67.267], [-124.32, 67.267], [-124.32, 30.42], [144.903, 30.42], [144.903, 67.267]]]}, 'properties': {'URL': 'https://www.bco-dmo.org/dataset/712069'}}, {'type': 'Feature', 'geometry': {'type': 'Polygon', 'coordinates': [[[33.1, 66.55], [-123.08, 66.55], [-123.08, -65.65], [33.1, -65.65], [33.1, 66.55]]]}, 'properties': {'URL': 'https://www.bco-dmo.org/dataset/671638'}}, {'type': 'Feature', 'geometry': {'type': 'Polygon', 'coordinates': [[[166.75, 78.5922], [-179.23, 78.5922], [-179.23, -64.7667], [166.75, -64.7667], [166.75, 78.5922]]]}, 'properties': {'URL': 'https://www.bco-dmo.org/dataset/646128'}}, {'type': 'Feature', 'geometry': {'type': 'Polygon', 'coordinates': [[[142.8, 65.65], [-158, 65.65], [-158, -64.93], [142.8, -64.93], [142.8, 65.65]]]}, 'properties': {'URL': 'https://www.bco-dmo.org/dataset/666274'}}, {'type': 'Feature', 'geometry': {'type': 'Polygon', 'coordinates': [[[150, 50], [-150, 50], [-150, -50], [150, -50], [150, 50]]]}, 'properties': {'URL': 'https://www.bco-dmo.org/dataset/555780'}}, {'type': 'Feature', 'geometry': {'type': 'Polygon', 'coordinates': [[[145, 67], [-151.68, 67], [-151.68, 32.71], [145, 32.71], [145, 67]]]}, 'properties': {'URL': 'https://www.bco-dmo.org/dataset/659737'}}, {'type': 'Feature', 'geometry': {'type': 'Polygon', 'coordinates': [[[-66.9514, 49.3458], [-124.7844, 49.3458], [-124.7844, 24.7433], [-66.9514, 24.7433], [-66.9514, 49.3458]]]}, 'properties': {'URL': 'https://www.bco-dmo.org/dataset/687894'}}, {'type': 'Feature', 'geometry': {'type': 'Polygon', 'coordinates': [[[-70.4469, 48.5005], [-122.692, 48.5005], [-122.692, 32.5593], [-70.4469, 32.5593], [-70.4469, 48.5005]]]}, 'properties': {'URL': 'https://www.bco-dmo.org/dataset/658729'}}, {'type': 'Feature', 'geometry': {'type': 'Polygon', 'coordinates': [[[-71.2568, 41.6853], [-118.1078, 41.6853], [-118.1078, 33.5735], [-71.2568, 33.5735], [-71.2568, 41.6853]]]}, 'properties': {'URL': 'https://www.bco-dmo.org/dataset/3507'}}, {'type': 'Feature', 'geometry': {'type': 'Polygon', 'coordinates': [[[-65.6, 41.19], [-124.1668, 41.19], [-124.1668, 22.495], [-65.6, 22.495], [-65.6, 41.19]]]}, 'properties': {'URL': 'https://www.bco-dmo.org/dataset/674295'}}, {'type': 'Feature', 'geometry': {'type': 'Polygon', 'coordinates': [[[-65.6, 41.19], [-124.1668, 41.19], [-124.1668, 22.495], [-65.6, 22.495], [-65.6, 41.19]]]}, 'properties': {'URL': 'https://www.bco-dmo.org/dataset/674225'}}, {'type': 'Feature', 'geometry': {'type': 'Polygon', 'coordinates': [[[-65.6, 41.19], [-124.1668, 41.19], [-124.1668, 22.495], [-65.6, 22.495], [-65.6, 41.19]]]}, 'properties': {'URL': 'https://www.bco-dmo.org/dataset/674286'}}, {'type': 'Feature', 'geometry': {'type': 'Polygon', 'coordinates': [[[-65.6, 41.19], [-124.1668, 41.19], [-124.1668, 22.495], [-65.6, 22.495], [-65.6, 41.19]]]}, 'properties': {'URL': 'https://www.bco-dmo.org/dataset/674248'}}, {'type': 'Feature', 'geometry': {'type': 'Polygon', 'coordinates': [[[-65.6, 41.19], [-124.1668, 41.19], [-124.1668, 22.495], [-65.6, 22.495], [-65.6, 41.19]]]}, 'properties': {'URL': 'https://www.bco-dmo.org/dataset/674259'}}, {'type': 'Feature', 'geometry': {'type': 'Polygon', 'coordinates': [[[-65.6, 41.19], [-124.1668, 41.19], [-124.1668, 22.495], [-65.6, 22.495], [-65.6, 41.19]]]}, 'properties': {'URL': 'https://www.bco-dmo.org/dataset/674268'}}, {'type': 'Feature', 'geometry': {'type': 'Polygon', 'coordinates': [[[-65.6, 41.19], [-124.1668, 41.19], [-124.1668, 22.495], [-65.6, 22.495], [-65.6, 41.19]]]}, 'properties': {'URL': 'https://www.bco-dmo.org/dataset/674240'}}]}\n"
     ]
    }
   ],
   "source": [
    "import requests\n",
    "\n",
    "#Make a GET call to the Geodex web service\n",
    "r = requests.get(request_url, params=params_dict)\n",
    "\n",
    "#Check the status code. If successful then this code is 200\n",
    "if r.status_code == requests.codes.ok:\n",
    "    \n",
    "    #Print out the result\n",
    "    print(r.json())"
   ]
  }
 ],
 "metadata": {
  "kernelspec": {
   "display_name": "Python 3",
   "language": "python",
   "name": "python3"
  },
  "language_info": {
   "codemirror_mode": {
    "name": "ipython",
    "version": 3
   },
   "file_extension": ".py",
   "mimetype": "text/x-python",
   "name": "python",
   "nbconvert_exporter": "python",
   "pygments_lexer": "ipython3",
   "version": "3.6.3"
  }
 },
 "nbformat": 4,
 "nbformat_minor": 2
}
