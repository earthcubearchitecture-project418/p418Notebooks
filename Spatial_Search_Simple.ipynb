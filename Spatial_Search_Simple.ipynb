{
 "cells": [
  {
   "cell_type": "markdown",
   "metadata": {
    "collapsed": true
   },
   "source": [
    "Step 1: Create a variable for a spatial search location."
   ]
  },
  {
   "cell_type": "code",
   "execution_count": 1,
   "metadata": {},
   "outputs": [],
   "source": [
    "location = (-105.2705,40.015)"
   ]
  },
  {
   "cell_type": "markdown",
   "metadata": {},
   "source": [
    "Step 2: Convert array to GeoJSON FeatureCollection."
   ]
  },
  {
   "cell_type": "code",
   "execution_count": 9,
   "metadata": {},
   "outputs": [],
   "source": [
    "import geojson\n",
    "from geojson import Feature, FeatureCollection, Polygon, Point\n",
    "point = Point(location) \n",
    "feature = Feature(geometry=point)\n",
    "feature_collection = FeatureCollection([feature])\n",
    "feature_collection_str = geojson.dumps(feature_collection, sort_keys=True)"
   ]
  },
  {
   "cell_type": "markdown",
   "metadata": {},
   "source": [
    "Step 3: Set type of search for spatial search."
   ]
  },
  {
   "cell_type": "code",
   "execution_count": 10,
   "metadata": {},
   "outputs": [],
   "source": [
    "search_type = \"spatial/search/object\""
   ]
  },
  {
   "cell_type": "markdown",
   "metadata": {},
   "source": [
    "Step 4: Set the request domain URL for the geodex web service. Please see http://geodex.org/swagger-ui/ for a complete description of the web service call formats. "
   ]
  },
  {
   "cell_type": "code",
   "execution_count": 11,
   "metadata": {},
   "outputs": [],
   "source": [
    "#Set core domain name for request URL\n",
    "domain_url = \"http://geodex.org/api/v1/\"\n",
    "\n",
    "#Create request URL\n",
    "request_url = domain_url + search_type"
   ]
  },
  {
   "cell_type": "markdown",
   "metadata": {},
   "source": [
    "Step 5: Create a python dict data structure to hold URL submission parameters"
   ]
  },
  {
   "cell_type": "code",
   "execution_count": 12,
   "metadata": {},
   "outputs": [],
   "source": [
    "params_dict = {'geowithin':feature_collection_str}"
   ]
  },
  {
   "cell_type": "markdown",
   "metadata": {},
   "source": [
    "Step 6: Make call to the Geodex RESTful web service using the requests package."
   ]
  },
  {
   "cell_type": "code",
   "execution_count": 16,
   "metadata": {},
   "outputs": [],
   "source": [
    "import requests\n",
    "\n",
    "#Make a GET call to the Geodex web service\n",
    "r = requests.get(request_url, params=params_dict)\n",
    "\n",
    "#Check the status code. If successful then this code is 200\n",
    "if r.status_code != requests.codes.ok:\n",
    "    print(\"ERROR!\")\n",
    "else:\n",
    "    results = r.json()"
   ]
  },
  {
   "cell_type": "markdown",
   "metadata": {},
   "source": [
    "Step 7: Expore results."
   ]
  },
  {
   "cell_type": "code",
   "execution_count": 14,
   "metadata": {},
   "outputs": [
    {
     "name": "stdout",
     "output_type": "stream",
     "text": [
      "Number of Results = 17\n",
      "URL of First Result = https://www.bco-dmo.org/dataset/700907\n",
      "Coordinates of First Result = [[[179.7, 46.4], [-179.93, 46.4], [-179.93, -39.11], [179.7, -39.11], [179.7, 46.4]]]\n"
     ]
    }
   ],
   "source": [
    "features = results['features']\n",
    "number_of_results = len(features)\n",
    "first_result = features[0]\n",
    "\n",
    "url = first_result['properties']['URL']\n",
    "geometry = first_result['geometry']['type']\n",
    "coordinates = first_result['geometry']['coordinates']\n",
    "\n",
    "print(\"Number of Results = \" + str(number_of_results))\n",
    "print(\"URL of First Result = \" + url)\n",
    "print(\"Coordinates of First Result = \" + str(coordinates))"
   ]
  }
 ],
 "metadata": {
  "kernelspec": {
   "display_name": "Python 3",
   "language": "python",
   "name": "python3"
  },
  "language_info": {
   "codemirror_mode": {
    "name": "ipython",
    "version": 3
   },
   "file_extension": ".py",
   "mimetype": "text/x-python",
   "name": "python",
   "nbconvert_exporter": "python",
   "pygments_lexer": "ipython3",
   "version": "3.6.3"
  }
 },
 "nbformat": 4,
 "nbformat_minor": 2
}
