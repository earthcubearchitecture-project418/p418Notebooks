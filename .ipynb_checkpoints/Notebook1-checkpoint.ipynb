{
 "cells": [
  {
   "cell_type": "markdown",
   "metadata": {},
   "source": [
    "### Notebook 1:  A P418 client example"
   ]
  },
  {
   "cell_type": "markdown",
   "metadata": {},
   "source": [
    "Can we demonstrate in a notebook:\n",
    "\n",
    "- [ ] Searching the P418 services\n",
    "- [ ] A UI that allows inspection of results and the selection of one or more data files of interest\n",
    "- [ ] Code that takes data files of interest by UUID and then inspects them (focus only type frictionless for now)\n",
    "- [ ] Validation via GoodTables libraries\n",
    "- [ ] Access and loading via Pandas \n",
    "- [ ] Charting and manipulation in pyhton land\n",
    "\n",
    "\n",
    "Refs:\n",
    "1. [Frictionless libraries](http://frictionlessdata.io/tools/#libraries)\n",
    "1. Example Package from OCD:  https://raw.githubusercontent.com/OpenCoreData/ocdGarden/master/frictionlessdata/fdpDemo/datapackage.json\n",
    "1. [Package in DataViewer](http://data.okfn.org/tools/view?url=https%3A%2F%2Fraw.githubusercontent.com%2FOpenCoreData%2FocdGarden%2Fmaster%2Ffrictionlessdata%2FfdpDemo%2Fdatapackage.json)\n"
   ]
  },
  {
   "cell_type": "code",
   "execution_count": 24,
   "metadata": {},
   "outputs": [],
   "source": [
    "import requests\n",
    "from geojson import FeatureCollection\n",
    "\n",
    "req = requests.request('GET', 'http://opencoredata.org/api/v1/spatial/search/jrso?abstracts=true&geowithin=POLYGON((-66.25%2037.74,-61.46%2040.69,-56.5%2043.33,-55.82%2043.51,-55.13%2043.42,-54.52%2043.07,-54.1%2042.51,-53.93%2041.48,-54.15%2040.82,-54.62%2040.29,-59.67%2037.57,-64.66%2034.52,-65.35%2034.38,-66.04%2034.52,-66.62%2034.91,-67.01%2035.5,-67.14%2036.19,-67%2036.87,-66.25%2037.74))')\n",
    "assert req.status_code == 200\n",
    "request_response_geojson = req.text\n",
    "\n"
   ]
  },
  {
   "cell_type": "code",
   "execution_count": null,
   "metadata": {
    "collapsed": true
   },
   "outputs": [],
   "source": []
  }
 ],
 "metadata": {
  "kernelspec": {
   "display_name": "Python 3",
   "language": "python",
   "name": "python3"
  },
  "language_info": {
   "codemirror_mode": {
    "name": "ipython",
    "version": 3
   },
   "file_extension": ".py",
   "mimetype": "text/x-python",
   "name": "python",
   "nbconvert_exporter": "python",
   "pygments_lexer": "ipython3",
   "version": "3.6.3"
  }
 },
 "nbformat": 4,
 "nbformat_minor": 1
}
