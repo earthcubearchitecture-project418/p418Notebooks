{
 "cells": [
  {
   "cell_type": "markdown",
   "metadata": {},
   "source": [
    "## Test notebook for converting DataCite XML to schema.org JSON-LD\n",
    "\n",
    "#### ocdGarden Bleve index test\n",
    "Testing some of the OCD code that exposes bleve indexes"
   ]
  },
  {
   "cell_type": "markdown",
   "metadata": {},
   "source": [
    "#### Dep Hell\n",
    "\n",
    "Having issue: \n",
    "```\n",
    "AttributeError: 'SymbolDatabase' object has no attribute 'RegisterServiceDescriptor'\n",
    "```\n",
    "\n",
    "* pip install grpcio\n",
    "* pip install grpcio-tools\n",
    "* pip install protobuf\n",
    "* conda install -c conda-forge protobuf=3.2.0\n",
    "* conda install -c conda-forge protobuf=3.0.0\n",
    "\n",
    "Looks like this is a recent issue with the grpcio packages... \n",
    "  "
   ]
  },
  {
   "cell_type": "code",
   "execution_count": 1,
   "metadata": {
    "collapsed": false
   },
   "outputs": [
    {
     "ename": "AttributeError",
     "evalue": "'SymbolDatabase' object has no attribute 'RegisterServiceDescriptor'",
     "output_type": "error",
     "traceback": [
      "\u001b[0;31m---------------------------------------------------------------------------\u001b[0m",
      "\u001b[0;31mAttributeError\u001b[0m                            Traceback (most recent call last)",
      "\u001b[0;32m<ipython-input-1-3bf7a5f97888>\u001b[0m in \u001b[0;36m<module>\u001b[0;34m()\u001b[0m\n\u001b[1;32m      9\u001b[0m     \u001b[0msys\u001b[0m\u001b[0;34m.\u001b[0m\u001b[0mpath\u001b[0m\u001b[0;34m.\u001b[0m\u001b[0mappend\u001b[0m\u001b[0;34m(\u001b[0m\u001b[0mmodule_path\u001b[0m\u001b[0;34m)\u001b[0m\u001b[0;34m\u001b[0m\u001b[0m\n\u001b[1;32m     10\u001b[0m \u001b[0;34m\u001b[0m\u001b[0m\n\u001b[0;32m---> 11\u001b[0;31m \u001b[0;32mfrom\u001b[0m \u001b[0mbleve_pb2\u001b[0m \u001b[0;32mimport\u001b[0m \u001b[0mSearchRequest\u001b[0m\u001b[0;34m\u001b[0m\u001b[0m\n\u001b[0m\u001b[1;32m     12\u001b[0m \u001b[0;32mfrom\u001b[0m \u001b[0mbleve_pb2_grpc\u001b[0m \u001b[0;32mimport\u001b[0m \u001b[0mDoSearch\u001b[0m\u001b[0;34m\u001b[0m\u001b[0m\n\u001b[1;32m     13\u001b[0m \u001b[0;34m\u001b[0m\u001b[0m\n",
      "\u001b[0;32m/Users/dfils/src/go/src/earthcube.org/Project418/p418Notebooks/libraries/bleve_pb2.py\u001b[0m in \u001b[0;36m<module>\u001b[0;34m()\u001b[0m\n\u001b[1;32m    133\u001b[0m   ),\n\u001b[1;32m    134\u001b[0m ])\n\u001b[0;32m--> 135\u001b[0;31m \u001b[0m_sym_db\u001b[0m\u001b[0;34m.\u001b[0m\u001b[0mRegisterServiceDescriptor\u001b[0m\u001b[0;34m(\u001b[0m\u001b[0m_SEARCH\u001b[0m\u001b[0;34m)\u001b[0m\u001b[0;34m\u001b[0m\u001b[0m\n\u001b[0m\u001b[1;32m    136\u001b[0m \u001b[0;34m\u001b[0m\u001b[0m\n\u001b[1;32m    137\u001b[0m \u001b[0mDESCRIPTOR\u001b[0m\u001b[0;34m.\u001b[0m\u001b[0mservices_by_name\u001b[0m\u001b[0;34m[\u001b[0m\u001b[0;34m'Search'\u001b[0m\u001b[0;34m]\u001b[0m \u001b[0;34m=\u001b[0m \u001b[0m_SEARCH\u001b[0m\u001b[0;34m\u001b[0m\u001b[0m\n",
      "\u001b[0;31mAttributeError\u001b[0m: 'SymbolDatabase' object has no attribute 'RegisterServiceDescriptor'"
     ]
    }
   ],
   "source": [
    "from __future__ import print_function\n",
    "\n",
    "import grpc\n",
    "import os\n",
    "import sys\n",
    "\n",
    "module_path = os.path.abspath(os.path.join('./libraries'))\n",
    "if module_path not in sys.path:\n",
    "    sys.path.append(module_path)\n",
    "\n",
    "from bleve_pb2 import SearchRequest\n",
    "from bleve_pb2_grpc import DoSearch\n",
    "\n",
    "\n",
    "def run():\n",
    "#  channel = grpc.insecure_channel('localhost:50051')\n",
    "#  stub = helloworld_pb2_grpc.GreeterStub(channel)\n",
    "#  response = stub.SayHello(helloworld_pb2.HelloRequest(name='you'))\n",
    "#  print(\"Greeter client received: \" + response.message)\n",
    "    \n",
    "  channel = grpc.insecure_channel('localhost:50051')\n",
    "  stub = bleve_pb2_grpc.pb.NewSearchClient(channel)\n",
    "  response = stub.DoSearch(bleve_pb2.SearchRequest(term='thermal', index='csdco'))\n",
    "  print(\"Client received: \" + response.message)\n",
    "\n",
    "\n",
    "if __name__ == '__main__':\n",
    "  run()"
   ]
  },
  {
   "cell_type": "code",
   "execution_count": null,
   "metadata": {
    "collapsed": true
   },
   "outputs": [],
   "source": []
  }
 ],
 "metadata": {
  "kernelspec": {
   "display_name": "Python 2",
   "language": "python",
   "name": "python2"
  },
  "language_info": {
   "codemirror_mode": {
    "name": "ipython",
    "version": 2
   },
   "file_extension": ".py",
   "mimetype": "text/x-python",
   "name": "python",
   "nbconvert_exporter": "python",
   "pygments_lexer": "ipython2",
   "version": "2.7.11"
  }
 },
 "nbformat": 4,
 "nbformat_minor": 0
}
