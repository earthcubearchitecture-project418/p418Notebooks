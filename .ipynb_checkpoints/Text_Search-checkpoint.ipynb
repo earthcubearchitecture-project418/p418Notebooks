{
 "cells": [
  {
   "cell_type": "code",
   "execution_count": 32,
   "metadata": {
    "collapsed": true
   },
   "outputs": [],
   "source": [
    "import ipywidgets as widgets\n",
    "from IPython.display import display\n",
    "from enum import Enum\n",
    "from collections import namedtuple\n",
    "import requests"
   ]
  },
  {
   "cell_type": "code",
   "execution_count": 33,
   "metadata": {
    "collapsed": true
   },
   "outputs": [],
   "source": [
    "GeodexWebServiceAction = namedtuple('GeodexWebServiceAction', ['value', 'web_service_type', 'url_suffix'])\n",
    "\n",
    "class GeodexWebServiceActions(Enum):\n",
    "    TEXTINDEX_SEARCH = GeodexWebServiceAction(0, \"GET\", \"textindex/search\")\n",
    "    TEXTINDEX_SEARCHSET = GeodexWebServiceAction(0, \"GET\", \"textindex/searchset\")\n",
    "    SPATIAL_SEARCH_OBJECT = GeodexWebServiceAction(0, \"GET\", \"spatial/search/object\") \n",
    "    SPATIAL_SEARCH_RESOURCE = GeodexWebServiceAction(0, \"GET\", \"spatial/search/resource\")\n",
    "    SPATIAL_SEARCH_RESOURCESET = GeodexWebServiceAction(0, \"POST\", \"spatial/search/resourceset\") \n",
    "    TYPEAHEAD_PROVIDERS = GeodexWebServiceAction(0, \"GET\", \"typeahead/providers\")\n",
    "    GRAPH_RESDETAILS = GeodexWebServiceAction(0, \"GET\", \"graph/resdetails\")\n",
    "    GRAPH_RESSETDETAILS = GeodexWebServiceAction(0, \"POST\", \"graph/ressetdetails\")\n",
    "    GRAPH_RESSETPEOPLE = GeodexWebServiceAction(0, \"POST\", \"graph/ressetpeople\")\n",
    "\n",
    "    def get_web_service_type(self):\n",
    "        return self.value.web_service_type\n",
    "\n",
    "    def get_url_suffix(self):\n",
    "        return self.value.url_suffix"
   ]
  },
  {
   "cell_type": "code",
   "execution_count": 34,
   "metadata": {
    "collapsed": true
   },
   "outputs": [],
   "source": [
    "class GeodexWebServiceClient(object):\n",
    "    \n",
    "    def perform_web_service_call(self, geodex_web_service_action, data_dict):\n",
    "\n",
    "        #Set core domain name for request URL\n",
    "        domainURL = \"http://geodex.org/api/v1/\"\n",
    "\n",
    "        #Create request URL\n",
    "        requestURL = domainURL\n",
    "\n",
    "        #Add the suffix for the call\n",
    "        requestURL += geodex_web_service_action.get_url_suffix()\n",
    "\n",
    "        #Get the type of request URL: GET or POST \n",
    "        web_service_type = geodex_web_service_action.get_web_service_type()\n",
    "        \n",
    "        #Send the request to the server\n",
    "        if web_service_type==\"POST\":\n",
    "            r = requests.get(requestURL, params=data_dict)\n",
    "        elif web_service_type==\"GET\":\n",
    "            r = requests.get(requestURL, data=data_dict)\n",
    "        \n",
    "        #Check status code and process data\n",
    "        if r.status_code == requests.codes.ok:\n",
    "            print(r.json())\n",
    "        "
   ]
  },
  {
   "cell_type": "code",
   "execution_count": 36,
   "metadata": {},
   "outputs": [],
   "source": [
    "class TextSearchSelector(object):\n",
    "\n",
    "    def __init__(self, geodex_web_service_client):\n",
    "        self._geodex_web_service_client = geodex_web_service_client\n",
    "        self._geodex_web_service_client.perform_web_service_call(GeodexWebServiceActions.TYPEAHEAD_PROVIDERS, {})\n",
    "        self._layout_ui()\n",
    "        self._initialize_ui()\n",
    "        display(self._container)\n",
    "    \n",
    "    def get_text_search_value(self):\n",
    "        return self._text_box.value\n",
    "    \n",
    "    def _on_submit_button_clicked(self, button):\n",
    "        print(\"help\")\n",
    "        \n",
    "    def _initialize_ui(self):\n",
    "        self._text_box.value = \"\"\n",
    "    \n",
    "    def _layout_ui(self):\n",
    "        #Labels\n",
    "        self._text_label = widgets.Label(\n",
    "            value = 'Enter Text Search Value: ', \n",
    "            layout = widgets.Layout(\n",
    "                width = '15%', \n",
    "                margin = '5px 5px 5px 5px'\n",
    "            )\n",
    "        )\n",
    "        \n",
    "        #Textfields\n",
    "        self._text_box = widgets.Text(\n",
    "            layout = widgets.Layout(\n",
    "                width = '85%', \n",
    "                margin = '5px 5px 5px 0px'\n",
    "            )\n",
    "        )\n",
    "        \n",
    "        #Buttons\n",
    "        self._submit_button = widgets.Button(\n",
    "            description = 'Submit Search to Geodex.org',\n",
    "            layout = widgets.Layout(\n",
    "                width = '99%', \n",
    "                margin = '5px 5px 5px 5px'\n",
    "            )\n",
    "        )\n",
    "        self._submit_button.on_click(self._on_submit_button_clicked)\n",
    "        \n",
    "        #Layout components\n",
    "        self._top_container = widgets.HBox(\n",
    "            [self._text_label, \n",
    "             self._text_box]\n",
    "        )\n",
    "        \n",
    "        self._container = widgets.VBox(\n",
    "            [self._top_container, \n",
    "             self._submit_button]\n",
    "        )"
   ]
  },
  {
   "cell_type": "code",
   "execution_count": 37,
   "metadata": {},
   "outputs": [
    {
     "name": "stdout",
     "output_type": "stream",
     "text": [
      "[{'name': 'OpenCore', 'description': 'Open Core Data', 'index': 'ocd'}, {'name': 'BCO-DMO', 'description': 'Biological and Chemical Oceanography Data Management Office', 'index': 'bcodmo'}, {'name': 'LinkedEarth', 'description': 'EARTHCUBE Linked Earth Building Block', 'index': 'linkedearth'}, {'name': 'IEDA', 'description': 'Interdisciplinary Earth Data Alliance ', 'index': 'ieda'}, {'name': 'EarthCube RWG', 'description': 'EarthCube Council of Data Facilities Registry Working Group', 'index': 'rwg'}, {'name': 'CSDCO', 'description': 'Neotoma', 'index': 'csdco'}]\n"
     ]
    },
    {
     "data": {
      "application/vnd.jupyter.widget-view+json": {
       "model_id": "d563df6a25c540d7a57d9ca3d6f90c75",
       "version_major": 2,
       "version_minor": 0
      },
      "text/plain": [
       "A Jupyter Widget"
      ]
     },
     "metadata": {},
     "output_type": "display_data"
    }
   ],
   "source": [
    "geodex_web_service_client = GeodexWebServiceClient()\n",
    "text_search_selector = TextSearchSelector(geodex_web_service_client)"
   ]
  },
  {
   "cell_type": "code",
   "execution_count": null,
   "metadata": {
    "collapsed": true
   },
   "outputs": [],
   "source": []
  }
 ],
 "metadata": {
  "kernelspec": {
   "display_name": "Python 3",
   "language": "python",
   "name": "python3"
  },
  "language_info": {
   "codemirror_mode": {
    "name": "ipython",
    "version": 3
   },
   "file_extension": ".py",
   "mimetype": "text/x-python",
   "name": "python",
   "nbconvert_exporter": "python",
   "pygments_lexer": "ipython3",
   "version": "3.6.3"
  }
 },
 "nbformat": 4,
 "nbformat_minor": 2
}
