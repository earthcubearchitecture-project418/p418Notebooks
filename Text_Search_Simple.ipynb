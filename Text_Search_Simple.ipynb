{
 "cells": [
  {
   "cell_type": "markdown",
   "metadata": {
    "collapsed": true
   },
   "source": [
    "Step 1: Create a variable to holding text search value"
   ]
  },
  {
   "cell_type": "code",
   "execution_count": 1,
   "metadata": {},
   "outputs": [],
   "source": [
    "text_search_value = \"carbon\""
   ]
  },
  {
   "cell_type": "markdown",
   "metadata": {},
   "source": [
    "Step 2: Set the number of results to return per provider."
   ]
  },
  {
   "cell_type": "code",
   "execution_count": 2,
   "metadata": {},
   "outputs": [],
   "source": [
    "number_of_results = 100"
   ]
  },
  {
   "cell_type": "markdown",
   "metadata": {},
   "source": [
    "Step 3: Set type of search to harvest top n results per provider."
   ]
  },
  {
   "cell_type": "code",
   "execution_count": 3,
   "metadata": {},
   "outputs": [],
   "source": [
    "search_type = \"textindex/searchset\""
   ]
  },
  {
   "cell_type": "markdown",
   "metadata": {},
   "source": [
    "Step 4: Set the request domain URL for the geodex web service. Please see http://geodex.org/swagger-ui/ for a complete description of the web service call formats. "
   ]
  },
  {
   "cell_type": "code",
   "execution_count": 4,
   "metadata": {},
   "outputs": [],
   "source": [
    "#Set core domain name for request URL\n",
    "domain_url = \"https://geodex.org/api/v1/\"\n",
    "\n",
    "#Create request URL\n",
    "request_url = domain_url + search_type"
   ]
  },
  {
   "cell_type": "markdown",
   "metadata": {},
   "source": [
    "Step 5: Create a python dict data structure to hold URL submission parameters"
   ]
  },
  {
   "cell_type": "code",
   "execution_count": 5,
   "metadata": {},
   "outputs": [],
   "source": [
    "params_dict = {'q':text_search_value,'s':'0','n':str(number_of_results)}"
   ]
  },
  {
   "cell_type": "markdown",
   "metadata": {},
   "source": [
    "Step 6: Make call to the Geodex RESTful web service using the requests package."
   ]
  },
  {
   "cell_type": "code",
   "execution_count": 6,
   "metadata": {},
   "outputs": [
    {
     "name": "stdout",
     "output_type": "stream",
     "text": [
      "https://geodex.org/api/v1/textindex/searchset\n",
      "{'q': 'carbon', 's': '0', 'n': '100'}\n"
     ]
    }
   ],
   "source": [
    "import requests\n",
    "\n",
    "#Make a GET call to the Geodex web service\n",
    "r = requests.get(request_url, params=params_dict)\n",
    "\n",
    "print(request_url)\n",
    "print(params_dict)\n",
    "\n",
    "#Check the status code. If successful then this code is 200\n",
    "if r.status_code != requests.codes.ok:\n",
    "    print(\"ERROR!\")\n",
    "else:\n",
    "    results = r.json()"
   ]
  },
  {
   "cell_type": "markdown",
   "metadata": {},
   "source": [
    "Step 7: Examine the JSON output in a user friendly way."
   ]
  },
  {
   "cell_type": "code",
   "execution_count": 7,
   "metadata": {},
   "outputs": [
    {
     "name": "stdout",
     "output_type": "stream",
     "text": [
      "Provider Index = neotoma\n",
      "Number of Results = 4\n",
      "High Score from Provider = 0.91\n",
      "URL of Top Result for Provider = http://data.neotomadb.org/datasets/4659/\n",
      "Score of Top Result = 0.91\n"
     ]
    }
   ],
   "source": [
    "first_result = results[0]\n",
    "index = first_result['index']\n",
    "high_score = first_result['highscore']\n",
    "result_set = first_result['or']\n",
    "top_result = result_set[0]\n",
    "top_result_url = top_result['URL']\n",
    "top_result_score = top_result['score']\n",
    "\n",
    "print(\"Provider Index = \" + index)\n",
    "print(\"Number of Results = \" + str(len(result_set)))\n",
    "print(\"High Score from Provider = \" + str(high_score))\n",
    "print(\"URL of Top Result for Provider = \" + top_result_url)\n",
    "print(\"Score of Top Result = \" + str(top_result_score))"
   ]
  },
  {
   "cell_type": "markdown",
   "metadata": {},
   "source": [
    "Step 8: Now set the type of search to harvest top n results across all providers."
   ]
  },
  {
   "cell_type": "code",
   "execution_count": 8,
   "metadata": {},
   "outputs": [],
   "source": [
    "search_type = \"textindex/search\""
   ]
  },
  {
   "cell_type": "markdown",
   "metadata": {},
   "source": [
    "Step 9: Set the new request domain URL for the geodex web service. Please see http://geodex.org/swagger-ui/ for a complete description of the web service call formats. "
   ]
  },
  {
   "cell_type": "code",
   "execution_count": 9,
   "metadata": {},
   "outputs": [],
   "source": [
    "#Create new request URL\n",
    "request_url = domain_url + search_type"
   ]
  },
  {
   "cell_type": "markdown",
   "metadata": {},
   "source": [
    "Step 10: Make call to the Geodex RESTful web service using the requests package."
   ]
  },
  {
   "cell_type": "code",
   "execution_count": 10,
   "metadata": {},
   "outputs": [],
   "source": [
    "#Make a GET call to the Geodex web service\n",
    "r = requests.get(request_url, params=params_dict)\n",
    "\n",
    "#Check the status code. If successful then this code is 200\n",
    "if r.status_code != requests.codes.ok:\n",
    "    print(\"ERROR!\")\n",
    "else:\n",
    "    results = r.json()"
   ]
  },
  {
   "cell_type": "markdown",
   "metadata": {},
   "source": [
    "Step 11: Examine the JSON output in a user friendly way."
   ]
  },
  {
   "cell_type": "code",
   "execution_count": 11,
   "metadata": {},
   "outputs": [
    {
     "name": "stdout",
     "output_type": "stream",
     "text": [
      "Number of Results = 100\n",
      "URL of Top Result = http://data.neotomadb.org/datasets/4659/\n",
      "Score of Top Result = 0.91\n"
     ]
    }
   ],
   "source": [
    "number_of_results = len(results)\n",
    "first_result = results[0]\n",
    "url = first_result['URL']\n",
    "score = first_result['score']\n",
    "\n",
    "print(\"Number of Results = \" + str(number_of_results))\n",
    "print(\"URL of Top Result = \" + url)\n",
    "print(\"Score of Top Result = \" + str(score))"
   ]
  },
  {
   "cell_type": "markdown",
   "metadata": {},
   "source": [
    "Step 12: Now use the RESTful web service to query for metadata about a dataset."
   ]
  },
  {
   "cell_type": "code",
   "execution_count": 12,
   "metadata": {},
   "outputs": [],
   "source": [
    "search_type = \"graph/details\"\n",
    "request_url = domain_url + search_type\n",
    "params_dict = {'r':'http://get.iedadata.org/doi/100537'}\n",
    "r = requests.get(request_url, params=params_dict)\n",
    "\n",
    "#Check the status code. If successful then this code is 200\n",
    "if r.status_code != requests.codes.ok:\n",
    "    print(\"ERROR!\")\n",
    "else:\n",
    "    results = r.json()"
   ]
  },
  {
   "cell_type": "markdown",
   "metadata": {},
   "source": [
    "Step 13: Now examine the returned metadata."
   ]
  },
  {
   "cell_type": "code",
   "execution_count": 13,
   "metadata": {},
   "outputs": [
    {
     "name": "stdout",
     "output_type": "stream",
     "text": [
      "Dataset Webpage URL = http://get.iedadata.org/doi/100537\n",
      "Name = Organic Carbon, in situ Temperature, Age Data, and Age Models in Scientific Ocean Drilling Holes (Deep Sea Drilling Project, Ocean Drilling Program, and Integrated Ocean Drilling Program)\n",
      "Alternate Name = \n",
      "URI = DOI:10.1594/IEDA/100537\n",
      "Keywords = Global\n",
      "Description = Abstract: Measurements of particulate organic carbon (POC), in situ sediment temperature, age data, and age models in scientific ocean drilling holes (Deep Sea Drilling Project, Ocean Drilling Program, and Integrated Ocean Drilling Program). The data are from drill holes in global areas of high POC deposition (continental margins and upwelling areas). The variation in POC content with temperature and age in the sediment column is used to study the process of organic matter decomposition.; Other Description: Malinverno, A. and Martinez, E. A. The effect of temperature on organic carbon degradation in marine sediments. Sci. Rep. 5, 17861; doi: 10.1038/srep17861 (2015).\n",
      "Citation = Alberto Malinverno, Ernesto A. Martinez (2015), Organic Carbon, in situ Temperature, Age Data, and Age Models in Scientific Ocean Drilling Holes (Deep Sea Drilling Project, Ocean Drilling Program, and Integrated Ocean Drilling Program). Interdisciplinary Earth Data Alliance (IEDA). doi:10.1594/IEDA/100537\n",
      "Date Published = 2015\n",
      "License = Creative Commons Attribution-NonCommercial-Share Alike 3.0 United States [CC BY-NC-SA 3.0]\n",
      "Dataset Download Link = \n"
     ]
    }
   ],
   "source": [
    "print(\"Dataset Webpage URL = \" + results['URL'])\n",
    "print(\"Name = \" + results['Name'])\n",
    "print(\"Alternate Name = \" + results['Aname'])\n",
    "print(\"URI = \" + results['S'])\n",
    "print(\"Keywords = \" + results['Keywords'])\n",
    "print(\"Description = \" + results['Description'])\n",
    "print(\"Citation = \" + results['Citation'])\n",
    "print(\"Date Published = \" + results['Datepublished'])\n",
    "print(\"License = \" + results['License'])\n",
    "print(\"Dataset Download Link = \" + results['Curl'])"
   ]
  }
 ],
 "metadata": {
  "kernelspec": {
   "display_name": "Python 3",
   "language": "python",
   "name": "python3"
  },
  "language_info": {
   "codemirror_mode": {
    "name": "ipython",
    "version": 3
   },
   "file_extension": ".py",
   "mimetype": "text/x-python",
   "name": "python",
   "nbconvert_exporter": "python",
   "pygments_lexer": "ipython3",
   "version": "3.6.3"
  }
 },
 "nbformat": 4,
 "nbformat_minor": 2
}
