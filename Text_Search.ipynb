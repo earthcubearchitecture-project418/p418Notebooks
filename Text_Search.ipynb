{
 "cells": [
  {
   "cell_type": "code",
   "execution_count": 5,
   "metadata": {
    "collapsed": true
   },
   "outputs": [],
   "source": [
    "import ipywidgets as widgets\n",
    "from IPython.display import display"
   ]
  },
  {
   "cell_type": "code",
   "execution_count": 34,
   "metadata": {},
   "outputs": [],
   "source": [
    "class TextSearchSelector(object):\n",
    "\n",
    "    def __init__(self):\n",
    "        self._layout_ui()\n",
    "        self._initialize_ui()\n",
    "        display(self._container)\n",
    "        \n",
    "    def _on_submit_button_clicked(self, button):\n",
    "        print(\"GO GET DATA!!!!\")\n",
    "        \n",
    "    def _initialize_ui(self):\n",
    "        self._text_box.value = \"\"\n",
    "    \n",
    "    def _layout_ui(self):\n",
    "        #Labels\n",
    "        self._text_label = widgets.Label(\n",
    "            value = 'Enter Text Search Value: ', \n",
    "            layout = widgets.Layout(\n",
    "                width = '15%', \n",
    "                margin = '5px 5px 5px 5px'\n",
    "            )\n",
    "        )\n",
    "        \n",
    "        #Textfields\n",
    "        self._text_box = widgets.Text(\n",
    "            layout = widgets.Layout(\n",
    "                width = '85%', \n",
    "                margin = '5px 5px 5px 0px'\n",
    "            )\n",
    "        )\n",
    "        \n",
    "        #Buttons\n",
    "        self._submit_button = widgets.Button(\n",
    "            description = 'Submit Search to Geodex.org',\n",
    "            layout = widgets.Layout(\n",
    "                width = '99%', \n",
    "                margin = '5px 5px 5px 5px'\n",
    "            )\n",
    "        )\n",
    "        self._submit_button.on_click(self._on_submit_button_clicked)\n",
    "        \n",
    "        #Layout components\n",
    "        self._top_container = widgets.HBox(\n",
    "            [self._text_label, \n",
    "             self._text_box]\n",
    "        )\n",
    "        \n",
    "        self._container = widgets.VBox(\n",
    "            [self._top_container, \n",
    "             self._submit_button]\n",
    "        )"
   ]
  },
  {
   "cell_type": "code",
   "execution_count": 35,
   "metadata": {},
   "outputs": [
    {
     "data": {
      "application/vnd.jupyter.widget-view+json": {
       "model_id": "577a7cae69d84e0b81441a9c8ca13dd6",
       "version_major": 2,
       "version_minor": 0
      },
      "text/plain": [
       "A Jupyter Widget"
      ]
     },
     "metadata": {},
     "output_type": "display_data"
    }
   ],
   "source": [
    "selector = TextSearchSelector()"
   ]
  }
 ],
 "metadata": {
  "kernelspec": {
   "display_name": "Python 3",
   "language": "python",
   "name": "python3"
  },
  "language_info": {
   "codemirror_mode": {
    "name": "ipython",
    "version": 3
   },
   "file_extension": ".py",
   "mimetype": "text/x-python",
   "name": "python",
   "nbconvert_exporter": "python",
   "pygments_lexer": "ipython3",
   "version": "3.6.3"
  }
 },
 "nbformat": 4,
 "nbformat_minor": 2
}
